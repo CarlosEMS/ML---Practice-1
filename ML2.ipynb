{
 "cells": [
  {
   "cell_type": "code",
   "execution_count": 19,
   "metadata": {
    "collapsed": true
   },
   "outputs": [],
   "source": [
    "import matplotlib.pyplot as plt\n",
    "from sklearn import datasets, svm, metrics\n",
    "from sklearn import linear_model"
   ]
  },
  {
   "cell_type": "code",
   "execution_count": 30,
   "metadata": {
    "collapsed": true
   },
   "outputs": [],
   "source": [
    "digits = datasets.load_digits()\n",
    "images_and_labels = list(zip(digits.images, digits.target))\n",
    "lista=list(range(10))"
   ]
  },
  {
   "cell_type": "code",
   "execution_count": 37,
   "metadata": {
    "collapsed": false
   },
   "outputs": [
    {
     "name": "stdout",
     "output_type": "stream",
     "text": [
      "Number of iterations, value, guess and decision function\n",
      "1 [8] [6] [[-30724. -43116. -13484. -14012. -26120. -25420.   5468. -28864.  -6536.\n",
      "  -22016.]]\n",
      "2 [8] [8] [[-31800. -27112. -20408. -16764. -24408. -25608. -16184. -45792.  12964.\n",
      "   -5940.]]\n",
      "3 [8] [6] [[-27076. -34344. -19180. -30508. -27304. -37152.  -3644. -36492.  -3668.\n",
      "  -23316.]]\n",
      "4 [8] [8] [[-31996. -35112. -24668. -36988. -18324. -37312. -13076. -48120.   7876.\n",
      "  -28144.]]\n",
      "5 [8] [8] [[-40956. -32604. -24084. -34036. -26456. -33652. -22348. -54528.  17480.\n",
      "  -19704.]]\n",
      "6 [8] [8] [[-33860. -34504. -21628. -36340. -26324. -29436. -16584. -54060.    472.\n",
      "  -23596.]]\n",
      "7 [8] [8] [[-35392. -38792. -25280. -42312. -36532. -34656. -20096. -51424.  -3620.\n",
      "  -21908.]]\n",
      "8 [8] [8] [[-35392. -29908. -25280. -36756. -35164. -31160. -21852. -60760.   8240.\n",
      "  -26092.]]\n",
      "9 [8] [8] [[-35392. -41424. -25280. -30560. -29484. -45520. -21032. -62924.  -7000.\n",
      "  -16424.]]\n",
      "10 [8] [8] [[-35392. -47604. -25280. -33192. -32716. -51708. -10396. -60336.  -1832.\n",
      "  -23008.]]\n"
     ]
    }
   ],
   "source": [
    "print(\"Number of iterations, value, guess and decision function\")\n",
    "for i in range(len(lista)):\n",
    "    clf = linear_model.Perceptron(n_iter=i+1,eta0=4)\n",
    "    clf.fit(digits.data[:-1], digits.target[:-1])\n",
    "    print(i+1,digits.target[-1:],clf.predict(digits.data[-1:]),clf.decision_function(digits.data[-1:]))"
   ]
  },
  {
   "cell_type": "code",
   "execution_count": null,
   "metadata": {
    "collapsed": false
   },
   "outputs": [],
   "source": []
  },
  {
   "cell_type": "code",
   "execution_count": null,
   "metadata": {
    "collapsed": true
   },
   "outputs": [],
   "source": []
  }
 ],
 "metadata": {
  "kernelspec": {
   "display_name": "Python 3",
   "language": "python",
   "name": "python3"
  },
  "language_info": {
   "codemirror_mode": {
    "name": "ipython",
    "version": 3
   },
   "file_extension": ".py",
   "mimetype": "text/x-python",
   "name": "python",
   "nbconvert_exporter": "python",
   "pygments_lexer": "ipython3",
   "version": "3.5.1"
  }
 },
 "nbformat": 4,
 "nbformat_minor": 0
}
